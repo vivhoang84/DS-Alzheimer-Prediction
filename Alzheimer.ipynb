{
 "cells": [
  {
   "cell_type": "code",
   "execution_count": 1,
   "metadata": {},
   "outputs": [],
   "source": [
    "import pandas as pd"
   ]
  },
  {
   "cell_type": "code",
   "execution_count": 13,
   "metadata": {},
   "outputs": [
    {
     "data": {
      "text/plain": [
       "<bound method NDFrame.head of       PatientID  Age  Gender  Ethnicity  EducationLevel        BMI  Smoking  \\\n",
       "0          4751   73       0          0               2  22.927749        0   \n",
       "1          4752   89       0          0               0  26.827681        0   \n",
       "2          4753   73       0          3               1  17.795882        0   \n",
       "3          4754   74       1          0               1  33.800817        1   \n",
       "4          4755   89       0          0               0  20.716974        0   \n",
       "...         ...  ...     ...        ...             ...        ...      ...   \n",
       "2144       6895   61       0          0               1  39.121757        0   \n",
       "2145       6896   75       0          0               2  17.857903        0   \n",
       "2146       6897   77       0          0               1  15.476479        0   \n",
       "2147       6898   78       1          3               1  15.299911        0   \n",
       "2148       6899   72       0          0               2  33.289738        0   \n",
       "\n",
       "      AlcoholConsumption  PhysicalActivity  DietQuality  ...  \\\n",
       "0              13.297218          6.327112     1.347214  ...   \n",
       "1               4.542524          7.619885     0.518767  ...   \n",
       "2              19.555085          7.844988     1.826335  ...   \n",
       "3              12.209266          8.428001     7.435604  ...   \n",
       "4              18.454356          6.310461     0.795498  ...   \n",
       "...                  ...               ...          ...  ...   \n",
       "2144            1.561126          4.049964     6.555306  ...   \n",
       "2145           18.767261          1.360667     2.904662  ...   \n",
       "2146            4.594670          9.886002     8.120025  ...   \n",
       "2147            8.674505          6.354282     1.263427  ...   \n",
       "2148            7.890703          6.570993     7.941404  ...   \n",
       "\n",
       "      MemoryComplaints  BehavioralProblems       ADL  Confusion  \\\n",
       "0                    0                   0  1.725883          0   \n",
       "1                    0                   0  2.592424          0   \n",
       "2                    0                   0  7.119548          0   \n",
       "3                    0                   1  6.481226          0   \n",
       "4                    0                   0  0.014691          0   \n",
       "...                ...                 ...       ...        ...   \n",
       "2144                 0                   0  4.492838          1   \n",
       "2145                 0                   1  9.204952          0   \n",
       "2146                 0                   0  5.036334          0   \n",
       "2147                 0                   0  3.785399          0   \n",
       "2148                 0                   1  8.327563          0   \n",
       "\n",
       "      Disorientation  PersonalityChanges  DifficultyCompletingTasks  \\\n",
       "0                  0                   0                          1   \n",
       "1                  0                   0                          0   \n",
       "2                  1                   0                          1   \n",
       "3                  0                   0                          0   \n",
       "4                  0                   1                          1   \n",
       "...              ...                 ...                        ...   \n",
       "2144               0                   0                          0   \n",
       "2145               0                   0                          0   \n",
       "2146               0                   0                          0   \n",
       "2147               0                   0                          0   \n",
       "2148               1                   0                          0   \n",
       "\n",
       "      Forgetfulness  Diagnosis  DoctorInCharge  \n",
       "0                 0          0       XXXConfid  \n",
       "1                 1          0       XXXConfid  \n",
       "2                 0          0       XXXConfid  \n",
       "3                 0          0       XXXConfid  \n",
       "4                 0          0       XXXConfid  \n",
       "...             ...        ...             ...  \n",
       "2144              0          1       XXXConfid  \n",
       "2145              0          1       XXXConfid  \n",
       "2146              0          1       XXXConfid  \n",
       "2147              1          1       XXXConfid  \n",
       "2148              1          0       XXXConfid  \n",
       "\n",
       "[2149 rows x 35 columns]>"
      ]
     },
     "execution_count": 13,
     "metadata": {},
     "output_type": "execute_result"
    }
   ],
   "source": [
    "Alzheimer = \"alzheimers_disease_data.csv\"\n",
    "\n",
    "alz = pd.read_csv(Alzheimer)\n",
    "\n",
    "alz.head"
   ]
  },
  {
   "cell_type": "code",
   "execution_count": 11,
   "metadata": {},
   "outputs": [
    {
     "data": {
      "text/plain": [
       "PatientID                      int64\n",
       "Age                            int64\n",
       "Gender                         int64\n",
       "Ethnicity                      int64\n",
       "EducationLevel                 int64\n",
       "BMI                          float64\n",
       "Smoking                        int64\n",
       "AlcoholConsumption           float64\n",
       "PhysicalActivity             float64\n",
       "DietQuality                  float64\n",
       "SleepQuality                 float64\n",
       "FamilyHistoryAlzheimers        int64\n",
       "CardiovascularDisease          int64\n",
       "Diabetes                       int64\n",
       "Depression                     int64\n",
       "HeadInjury                     int64\n",
       "Hypertension                   int64\n",
       "SystolicBP                     int64\n",
       "DiastolicBP                    int64\n",
       "CholesterolTotal             float64\n",
       "CholesterolLDL               float64\n",
       "CholesterolHDL               float64\n",
       "CholesterolTriglycerides     float64\n",
       "MMSE                         float64\n",
       "FunctionalAssessment         float64\n",
       "MemoryComplaints               int64\n",
       "BehavioralProblems             int64\n",
       "ADL                          float64\n",
       "Confusion                      int64\n",
       "Disorientation                 int64\n",
       "PersonalityChanges             int64\n",
       "DifficultyCompletingTasks      int64\n",
       "Forgetfulness                  int64\n",
       "Diagnosis                      int64\n",
       "DoctorInCharge                object\n",
       "dtype: object"
      ]
     },
     "execution_count": 11,
     "metadata": {},
     "output_type": "execute_result"
    }
   ],
   "source": [
    "alz.dtypes"
   ]
  },
  {
   "cell_type": "code",
   "execution_count": 14,
   "metadata": {},
   "outputs": [
    {
     "data": {
      "text/plain": [
       "0       0\n",
       "1       0\n",
       "2       0\n",
       "3       1\n",
       "4       0\n",
       "       ..\n",
       "2144    0\n",
       "2145    0\n",
       "2146    0\n",
       "2147    1\n",
       "2148    0\n",
       "Name: Gender, Length: 2149, dtype: int64"
      ]
     },
     "execution_count": 14,
     "metadata": {},
     "output_type": "execute_result"
    }
   ],
   "source": [
    "alz[\"Gender\"]\n"
   ]
  },
  {
   "cell_type": "code",
   "execution_count": 20,
   "metadata": {},
   "outputs": [
    {
     "data": {
      "text/plain": [
       "<bound method NDFrame.head of       PatientID  Age  Gender  Ethnicity EducationLevel        BMI  Smoking  \\\n",
       "0          4751   73    male  Caucasian      Caucasian  22.927749        0   \n",
       "1          4752   89    male  Caucasian      Caucasian  26.827681        0   \n",
       "2          4753   73    male      Other          Other  17.795882        0   \n",
       "3          4754   74  female  Caucasian      Caucasian  33.800817        1   \n",
       "4          4755   89    male  Caucasian      Caucasian  20.716974        0   \n",
       "...         ...  ...     ...        ...            ...        ...      ...   \n",
       "2144       6895   61    male  Caucasian      Caucasian  39.121757        0   \n",
       "2145       6896   75    male  Caucasian      Caucasian  17.857903        0   \n",
       "2146       6897   77    male  Caucasian      Caucasian  15.476479        0   \n",
       "2147       6898   78  female      Other          Other  15.299911        0   \n",
       "2148       6899   72    male  Caucasian      Caucasian  33.289738        0   \n",
       "\n",
       "      AlcoholConsumption  PhysicalActivity  DietQuality  ...  \\\n",
       "0              13.297218          6.327112     1.347214  ...   \n",
       "1               4.542524          7.619885     0.518767  ...   \n",
       "2              19.555085          7.844988     1.826335  ...   \n",
       "3              12.209266          8.428001     7.435604  ...   \n",
       "4              18.454356          6.310461     0.795498  ...   \n",
       "...                  ...               ...          ...  ...   \n",
       "2144            1.561126          4.049964     6.555306  ...   \n",
       "2145           18.767261          1.360667     2.904662  ...   \n",
       "2146            4.594670          9.886002     8.120025  ...   \n",
       "2147            8.674505          6.354282     1.263427  ...   \n",
       "2148            7.890703          6.570993     7.941404  ...   \n",
       "\n",
       "      MemoryComplaints  BehavioralProblems       ADL  Confusion  \\\n",
       "0                    0                   0  1.725883          0   \n",
       "1                    0                   0  2.592424          0   \n",
       "2                    0                   0  7.119548          0   \n",
       "3                    0                   1  6.481226          0   \n",
       "4                    0                   0  0.014691          0   \n",
       "...                ...                 ...       ...        ...   \n",
       "2144                 0                   0  4.492838          1   \n",
       "2145                 0                   1  9.204952          0   \n",
       "2146                 0                   0  5.036334          0   \n",
       "2147                 0                   0  3.785399          0   \n",
       "2148                 0                   1  8.327563          0   \n",
       "\n",
       "      Disorientation  PersonalityChanges  DifficultyCompletingTasks  \\\n",
       "0                  0                   0                          1   \n",
       "1                  0                   0                          0   \n",
       "2                  1                   0                          1   \n",
       "3                  0                   0                          0   \n",
       "4                  0                   1                          1   \n",
       "...              ...                 ...                        ...   \n",
       "2144               0                   0                          0   \n",
       "2145               0                   0                          0   \n",
       "2146               0                   0                          0   \n",
       "2147               0                   0                          0   \n",
       "2148               1                   0                          0   \n",
       "\n",
       "      Forgetfulness  Diagnosis  DoctorInCharge  \n",
       "0                 0          0       XXXConfid  \n",
       "1                 1          0       XXXConfid  \n",
       "2                 0          0       XXXConfid  \n",
       "3                 0          0       XXXConfid  \n",
       "4                 0          0       XXXConfid  \n",
       "...             ...        ...             ...  \n",
       "2144              0          1       XXXConfid  \n",
       "2145              0          1       XXXConfid  \n",
       "2146              0          1       XXXConfid  \n",
       "2147              1          1       XXXConfid  \n",
       "2148              1          0       XXXConfid  \n",
       "\n",
       "[2149 rows x 35 columns]>"
      ]
     },
     "execution_count": 20,
     "metadata": {},
     "output_type": "execute_result"
    }
   ],
   "source": [
    "alz['Gender'] = alz['Gender'].replace({0: 'Male', 1: 'Female'})\n",
    "alz['Ethnicity'] = alz['Ethnicity'].replace({0: 'Caucasian', 1: 'African American', 2: 'Asian', 3: 'Other'})\n",
    "alz['EducationLevel'] = alz['Ethnicity'].replace({0: 'None', 1: 'High School', 2: \"Bachelor's\", 3: 'Higher'})\n",
    "alz['FamilyHistoryAlzheimers'] = alz['FamilyHistoryAlzheimers'].replace({0: 'No', 1: 'Yes'})\n",
    "alz['CardiovascularDisease'] = alz['CardiovascularDisease'].replace({0: 'No', 1: 'Yes'})\n",
    "\n",
    "alz.head"
   ]
  },
  {
   "cell_type": "code",
   "execution_count": null,
   "metadata": {},
   "outputs": [],
   "source": []
  }
 ],
 "metadata": {
  "kernelspec": {
   "display_name": "Python 3",
   "language": "python",
   "name": "python3"
  },
  "language_info": {
   "codemirror_mode": {
    "name": "ipython",
    "version": 3
   },
   "file_extension": ".py",
   "mimetype": "text/x-python",
   "name": "python",
   "nbconvert_exporter": "python",
   "pygments_lexer": "ipython3",
   "version": "3.12.3"
  }
 },
 "nbformat": 4,
 "nbformat_minor": 2
}
